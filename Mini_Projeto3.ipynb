{
 "cells": [
  {
   "cell_type": "markdown",
   "metadata": {},
   "source": [
    "# Definição do Problema\n",
    "\n",
    "A empresa Zuza Inc coletou dados do ano anterior com diversos atributos de funionários de todos os setores. O objetivo é estudar a relação desses\n",
    "atributos e o impacto na promoção dos funcionários. Esse trabalho de análise pode ser usado mais tarde para construir modelos de Machine Learning para\n",
    "prever se um colaborador será ou não promovido.\n",
    "\n",
    "Essas são as perguntas que devem ser respondidas:\n",
    "\n",
    "* Pergunta 1 - Qual a Correlação entre os atributos dos Funcionários?\n",
    "* Pergunta 2 - Qual o Tempo de Serviço da Maioria dos Funcionários?\n",
    "* Pergunta 3 - Qual Avaliação do Ano Anterior foi mais Comum?\n",
    "* Pergunta 4 - Qual a Distribuição das Idades dos Funcionários?\n",
    "* Pergunta 5 - Qual o Número de Treinamento mais Frequente?\n",
    "* Pergunta 6 - Qual a Proporção dos Funcionários Por Canal de Recrutamento?\n",
    "* Pergunta 7 - Qual a Relação entre a Promoção e a Avaliação do Ano Anterior?\n",
    "\n",
    "Seu trabalho é limpar e preparar os dados e então construir um dashboard no PowerBi para apresentar seus resultados.\n",
    "    \n",
    "    "
   ]
  },
  {
   "cell_type": "markdown",
   "metadata": {},
   "source": [
    "## Carregando o Instalando Pacotes"
   ]
  },
  {
   "cell_type": "code",
   "execution_count": 1,
   "metadata": {},
   "outputs": [
    {
     "name": "stdout",
     "output_type": "stream",
     "text": [
      "Versão da Linguagem Python:  3.8.5\n"
     ]
    }
   ],
   "source": [
    "# Versão da Linguagem Python\n",
    "from platform import python_version\n",
    "print(\"Versão da Linguagem Python: \", python_version())"
   ]
  },
  {
   "cell_type": "code",
   "execution_count": 2,
   "metadata": {},
   "outputs": [],
   "source": [
    "# Para atualizar um pacote, execute o comando abaixo no terminal ou prompt de comando:\n",
    "# pip install -U nome_pacote\n",
    "\n",
    "# Para instalar a versão exata de um pacote, execute:\n",
    "# !pip install nome_pacote==versão_desejada\n",
    "\n",
    "# Depois de instalar/atualizar o pacote, reinicie o jupyter notebook.\n",
    "\n",
    "# Instale o pacote watermark.\n",
    "# Esse pacote é usado para gravar as versões de outros pacotes usados neste jupyter notebook.\n",
    "!pip install -q -U watermark"
   ]
  },
  {
   "cell_type": "code",
   "execution_count": 3,
   "metadata": {},
   "outputs": [],
   "source": [
    "# Imports\n",
    "import numpy as np\n",
    "import pandas as pd\n",
    "import matplotlib\n",
    "import matplotlib.pyplot as plt\n",
    "import seaborn as sns"
   ]
  },
  {
   "cell_type": "code",
   "execution_count": 4,
   "metadata": {},
   "outputs": [
    {
     "name": "stdout",
     "output_type": "stream",
     "text": [
      "Author: Data Science Academy\n",
      "\n",
      "numpy     : 1.19.2\n",
      "matplotlib: 3.3.2\n",
      "seaborn   : 0.11.0\n",
      "pandas    : 1.1.3\n",
      "\n"
     ]
    }
   ],
   "source": [
    "# Versões dos pacotes usados neste jupyter notebook\n",
    "%reload_ext watermark\n",
    "%watermark -a \"Data Science Academy\" --iversions"
   ]
  },
  {
   "cell_type": "markdown",
   "metadata": {},
   "source": [
    "## Carregando os dados"
   ]
  },
  {
   "cell_type": "code",
   "execution_count": 5,
   "metadata": {},
   "outputs": [],
   "source": [
    "dadosRH = pd.read_csv('dadosRH.csv')"
   ]
  },
  {
   "cell_type": "code",
   "execution_count": 6,
   "metadata": {},
   "outputs": [
    {
     "data": {
      "text/html": [
       "<div>\n",
       "<style scoped>\n",
       "    .dataframe tbody tr th:only-of-type {\n",
       "        vertical-align: middle;\n",
       "    }\n",
       "\n",
       "    .dataframe tbody tr th {\n",
       "        vertical-align: top;\n",
       "    }\n",
       "\n",
       "    .dataframe thead th {\n",
       "        text-align: right;\n",
       "    }\n",
       "</style>\n",
       "<table border=\"1\" class=\"dataframe\">\n",
       "  <thead>\n",
       "    <tr style=\"text-align: right;\">\n",
       "      <th></th>\n",
       "      <th>id_funcionario</th>\n",
       "      <th>departmento</th>\n",
       "      <th>regiao</th>\n",
       "      <th>educacao</th>\n",
       "      <th>genero</th>\n",
       "      <th>canal_recrutamento</th>\n",
       "      <th>numero_treinamentos</th>\n",
       "      <th>idade</th>\n",
       "      <th>aval_ano_anterior</th>\n",
       "      <th>tempo_servico</th>\n",
       "      <th>promovido</th>\n",
       "    </tr>\n",
       "  </thead>\n",
       "  <tbody>\n",
       "    <tr>\n",
       "      <th>0</th>\n",
       "      <td>65438</td>\n",
       "      <td>Marketing</td>\n",
       "      <td>Sudeste</td>\n",
       "      <td>Mestrado ou Doutorado</td>\n",
       "      <td>F</td>\n",
       "      <td>Outsourcing</td>\n",
       "      <td>1</td>\n",
       "      <td>35</td>\n",
       "      <td>5.0</td>\n",
       "      <td>8</td>\n",
       "      <td>0</td>\n",
       "    </tr>\n",
       "    <tr>\n",
       "      <th>1</th>\n",
       "      <td>65141</td>\n",
       "      <td>Logistica</td>\n",
       "      <td>Nordeste</td>\n",
       "      <td>Superior</td>\n",
       "      <td>M</td>\n",
       "      <td>Outro</td>\n",
       "      <td>1</td>\n",
       "      <td>30</td>\n",
       "      <td>5.0</td>\n",
       "      <td>4</td>\n",
       "      <td>0</td>\n",
       "    </tr>\n",
       "    <tr>\n",
       "      <th>2</th>\n",
       "      <td>7513</td>\n",
       "      <td>Marketing</td>\n",
       "      <td>Sudeste</td>\n",
       "      <td>Superior</td>\n",
       "      <td>M</td>\n",
       "      <td>Outsourcing</td>\n",
       "      <td>1</td>\n",
       "      <td>34</td>\n",
       "      <td>3.0</td>\n",
       "      <td>7</td>\n",
       "      <td>0</td>\n",
       "    </tr>\n",
       "    <tr>\n",
       "      <th>3</th>\n",
       "      <td>2542</td>\n",
       "      <td>Marketing</td>\n",
       "      <td>Norte</td>\n",
       "      <td>Superior</td>\n",
       "      <td>M</td>\n",
       "      <td>Outro</td>\n",
       "      <td>2</td>\n",
       "      <td>39</td>\n",
       "      <td>1.0</td>\n",
       "      <td>10</td>\n",
       "      <td>0</td>\n",
       "    </tr>\n",
       "    <tr>\n",
       "      <th>4</th>\n",
       "      <td>48945</td>\n",
       "      <td>Tecnologia</td>\n",
       "      <td>Nordeste</td>\n",
       "      <td>Superior</td>\n",
       "      <td>M</td>\n",
       "      <td>Outro</td>\n",
       "      <td>1</td>\n",
       "      <td>45</td>\n",
       "      <td>3.0</td>\n",
       "      <td>2</td>\n",
       "      <td>0</td>\n",
       "    </tr>\n",
       "  </tbody>\n",
       "</table>\n",
       "</div>"
      ],
      "text/plain": [
       "   id_funcionario departmento    regiao               educacao genero  \\\n",
       "0           65438   Marketing   Sudeste  Mestrado ou Doutorado      F   \n",
       "1           65141   Logistica  Nordeste               Superior      M   \n",
       "2            7513   Marketing   Sudeste               Superior      M   \n",
       "3            2542   Marketing     Norte               Superior      M   \n",
       "4           48945  Tecnologia  Nordeste               Superior      M   \n",
       "\n",
       "  canal_recrutamento  numero_treinamentos  idade  aval_ano_anterior  \\\n",
       "0        Outsourcing                    1     35                5.0   \n",
       "1              Outro                    1     30                5.0   \n",
       "2        Outsourcing                    1     34                3.0   \n",
       "3              Outro                    2     39                1.0   \n",
       "4              Outro                    1     45                3.0   \n",
       "\n",
       "   tempo_servico  promovido  \n",
       "0              8          0  \n",
       "1              4          0  \n",
       "2              7          0  \n",
       "3             10          0  \n",
       "4              2          0  "
      ]
     },
     "execution_count": 6,
     "metadata": {},
     "output_type": "execute_result"
    }
   ],
   "source": [
    "dadosRH.head()"
   ]
  },
  {
   "cell_type": "code",
   "execution_count": 7,
   "metadata": {},
   "outputs": [
    {
     "data": {
      "text/plain": [
       "(54808, 11)"
      ]
     },
     "execution_count": 7,
     "metadata": {},
     "output_type": "execute_result"
    }
   ],
   "source": [
    "dadosRH.shape"
   ]
  },
  {
   "cell_type": "markdown",
   "metadata": {},
   "source": [
    "## Análise Exploratória, Limpeza e Transformação de Dados\n",
    "* Manipulando os dados e corrigindo eventuais problemas"
   ]
  },
  {
   "cell_type": "code",
   "execution_count": 8,
   "metadata": {},
   "outputs": [
    {
     "data": {
      "text/plain": [
       "id_funcionario            0\n",
       "departmento               0\n",
       "regiao                    0\n",
       "educacao               2409\n",
       "genero                    0\n",
       "canal_recrutamento        0\n",
       "numero_treinamentos       0\n",
       "idade                     0\n",
       "aval_ano_anterior      4124\n",
       "tempo_servico             0\n",
       "promovido                 0\n",
       "dtype: int64"
      ]
     },
     "execution_count": 8,
     "metadata": {},
     "output_type": "execute_result"
    }
   ],
   "source": [
    "dadosRH.isnull().sum()"
   ]
  },
  {
   "cell_type": "code",
   "execution_count": 9,
   "metadata": {},
   "outputs": [
    {
     "data": {
      "text/html": [
       "<div>\n",
       "<style scoped>\n",
       "    .dataframe tbody tr th:only-of-type {\n",
       "        vertical-align: middle;\n",
       "    }\n",
       "\n",
       "    .dataframe tbody tr th {\n",
       "        vertical-align: top;\n",
       "    }\n",
       "\n",
       "    .dataframe thead th {\n",
       "        text-align: right;\n",
       "    }\n",
       "</style>\n",
       "<table border=\"1\" class=\"dataframe\">\n",
       "  <thead>\n",
       "    <tr style=\"text-align: right;\">\n",
       "      <th></th>\n",
       "      <th>id_funcionario</th>\n",
       "      <th>departmento</th>\n",
       "      <th>regiao</th>\n",
       "      <th>genero</th>\n",
       "      <th>canal_recrutamento</th>\n",
       "      <th>numero_treinamentos</th>\n",
       "      <th>idade</th>\n",
       "      <th>aval_ano_anterior</th>\n",
       "      <th>tempo_servico</th>\n",
       "      <th>promovido</th>\n",
       "    </tr>\n",
       "    <tr>\n",
       "      <th>educacao</th>\n",
       "      <th></th>\n",
       "      <th></th>\n",
       "      <th></th>\n",
       "      <th></th>\n",
       "      <th></th>\n",
       "      <th></th>\n",
       "      <th></th>\n",
       "      <th></th>\n",
       "      <th></th>\n",
       "      <th></th>\n",
       "    </tr>\n",
       "  </thead>\n",
       "  <tbody>\n",
       "    <tr>\n",
       "      <th>Ensino Medio</th>\n",
       "      <td>805</td>\n",
       "      <td>805</td>\n",
       "      <td>805</td>\n",
       "      <td>805</td>\n",
       "      <td>805</td>\n",
       "      <td>805</td>\n",
       "      <td>805</td>\n",
       "      <td>458</td>\n",
       "      <td>805</td>\n",
       "      <td>805</td>\n",
       "    </tr>\n",
       "    <tr>\n",
       "      <th>Mestrado ou Doutorado</th>\n",
       "      <td>14925</td>\n",
       "      <td>14925</td>\n",
       "      <td>14925</td>\n",
       "      <td>14925</td>\n",
       "      <td>14925</td>\n",
       "      <td>14925</td>\n",
       "      <td>14925</td>\n",
       "      <td>14798</td>\n",
       "      <td>14925</td>\n",
       "      <td>14925</td>\n",
       "    </tr>\n",
       "    <tr>\n",
       "      <th>Superior</th>\n",
       "      <td>36669</td>\n",
       "      <td>36669</td>\n",
       "      <td>36669</td>\n",
       "      <td>36669</td>\n",
       "      <td>36669</td>\n",
       "      <td>36669</td>\n",
       "      <td>36669</td>\n",
       "      <td>33404</td>\n",
       "      <td>36669</td>\n",
       "      <td>36669</td>\n",
       "    </tr>\n",
       "  </tbody>\n",
       "</table>\n",
       "</div>"
      ],
      "text/plain": [
       "                       id_funcionario  departmento  regiao  genero  \\\n",
       "educacao                                                             \n",
       "Ensino Medio                      805          805     805     805   \n",
       "Mestrado ou Doutorado           14925        14925   14925   14925   \n",
       "Superior                        36669        36669   36669   36669   \n",
       "\n",
       "                       canal_recrutamento  numero_treinamentos  idade  \\\n",
       "educacao                                                                \n",
       "Ensino Medio                          805                  805    805   \n",
       "Mestrado ou Doutorado               14925                14925  14925   \n",
       "Superior                            36669                36669  36669   \n",
       "\n",
       "                       aval_ano_anterior  tempo_servico  promovido  \n",
       "educacao                                                            \n",
       "Ensino Medio                         458            805        805  \n",
       "Mestrado ou Doutorado              14798          14925      14925  \n",
       "Superior                           33404          36669      36669  "
      ]
     },
     "execution_count": 9,
     "metadata": {},
     "output_type": "execute_result"
    }
   ],
   "source": [
    "dadosRH.groupby(['educacao']).count()"
   ]
  },
  {
   "cell_type": "code",
   "execution_count": 11,
   "metadata": {},
   "outputs": [
    {
     "name": "stderr",
     "output_type": "stream",
     "text": [
      "C:\\Users\\elian\\anaconda3\\lib\\site-packages\\seaborn\\_decorators.py:36: FutureWarning: Pass the following variable as a keyword arg: x. From version 0.12, the only valid positional argument will be `data`, and passing other arguments without an explicit keyword will result in an error or misinterpretation.\n",
      "  warnings.warn(\n"
     ]
    },
    {
     "data": {
      "text/plain": [
       "<AxesSubplot:xlabel='educacao', ylabel='count'>"
      ]
     },
     "execution_count": 11,
     "metadata": {},
     "output_type": "execute_result"
    },
    {
     "data": {
      "image/png": "[encoded data removed]",
      "text/plain": [
       "<Figure size 432x288 with 1 Axes>"
      ]
     },
     "metadata": {
      "needs_background": "light"
     },
     "output_type": "display_data"
    }
   ],
   "source": [
    "sns.countplot(dadosRH['educacao'])"
   ]
  },
  {
   "cell_type": "code",
   "execution_count": 12,
   "metadata": {},
   "outputs": [
    {
     "data": {
      "text/html": [
       "<div>\n",
       "<style scoped>\n",
       "    .dataframe tbody tr th:only-of-type {\n",
       "        vertical-align: middle;\n",
       "    }\n",
       "\n",
       "    .dataframe tbody tr th {\n",
       "        vertical-align: top;\n",
       "    }\n",
       "\n",
       "    .dataframe thead th {\n",
       "        text-align: right;\n",
       "    }\n",
       "</style>\n",
       "<table border=\"1\" class=\"dataframe\">\n",
       "  <thead>\n",
       "    <tr style=\"text-align: right;\">\n",
       "      <th></th>\n",
       "      <th>id_funcionario</th>\n",
       "      <th>departmento</th>\n",
       "      <th>regiao</th>\n",
       "      <th>educacao</th>\n",
       "      <th>genero</th>\n",
       "      <th>canal_recrutamento</th>\n",
       "      <th>numero_treinamentos</th>\n",
       "      <th>idade</th>\n",
       "      <th>tempo_servico</th>\n",
       "      <th>promovido</th>\n",
       "    </tr>\n",
       "    <tr>\n",
       "      <th>aval_ano_anterior</th>\n",
       "      <th></th>\n",
       "      <th></th>\n",
       "      <th></th>\n",
       "      <th></th>\n",
       "      <th></th>\n",
       "      <th></th>\n",
       "      <th></th>\n",
       "      <th></th>\n",
       "      <th></th>\n",
       "      <th></th>\n",
       "    </tr>\n",
       "  </thead>\n",
       "  <tbody>\n",
       "    <tr>\n",
       "      <th>1.0</th>\n",
       "      <td>6223</td>\n",
       "      <td>6223</td>\n",
       "      <td>6223</td>\n",
       "      <td>5887</td>\n",
       "      <td>6223</td>\n",
       "      <td>6223</td>\n",
       "      <td>6223</td>\n",
       "      <td>6223</td>\n",
       "      <td>6223</td>\n",
       "      <td>6223</td>\n",
       "    </tr>\n",
       "    <tr>\n",
       "      <th>2.0</th>\n",
       "      <td>4225</td>\n",
       "      <td>4225</td>\n",
       "      <td>4225</td>\n",
       "      <td>4035</td>\n",
       "      <td>4225</td>\n",
       "      <td>4225</td>\n",
       "      <td>4225</td>\n",
       "      <td>4225</td>\n",
       "      <td>4225</td>\n",
       "      <td>4225</td>\n",
       "    </tr>\n",
       "    <tr>\n",
       "      <th>3.0</th>\n",
       "      <td>18618</td>\n",
       "      <td>18618</td>\n",
       "      <td>18618</td>\n",
       "      <td>17867</td>\n",
       "      <td>18618</td>\n",
       "      <td>18618</td>\n",
       "      <td>18618</td>\n",
       "      <td>18618</td>\n",
       "      <td>18618</td>\n",
       "      <td>18618</td>\n",
       "    </tr>\n",
       "    <tr>\n",
       "      <th>4.0</th>\n",
       "      <td>9877</td>\n",
       "      <td>9877</td>\n",
       "      <td>9877</td>\n",
       "      <td>9509</td>\n",
       "      <td>9877</td>\n",
       "      <td>9877</td>\n",
       "      <td>9877</td>\n",
       "      <td>9877</td>\n",
       "      <td>9877</td>\n",
       "      <td>9877</td>\n",
       "    </tr>\n",
       "    <tr>\n",
       "      <th>5.0</th>\n",
       "      <td>11741</td>\n",
       "      <td>11741</td>\n",
       "      <td>11741</td>\n",
       "      <td>11362</td>\n",
       "      <td>11741</td>\n",
       "      <td>11741</td>\n",
       "      <td>11741</td>\n",
       "      <td>11741</td>\n",
       "      <td>11741</td>\n",
       "      <td>11741</td>\n",
       "    </tr>\n",
       "  </tbody>\n",
       "</table>\n",
       "</div>"
      ],
      "text/plain": [
       "                   id_funcionario  departmento  regiao  educacao  genero  \\\n",
       "aval_ano_anterior                                                          \n",
       "1.0                          6223         6223    6223      5887    6223   \n",
       "2.0                          4225         4225    4225      4035    4225   \n",
       "3.0                         18618        18618   18618     17867   18618   \n",
       "4.0                          9877         9877    9877      9509    9877   \n",
       "5.0                         11741        11741   11741     11362   11741   \n",
       "\n",
       "                   canal_recrutamento  numero_treinamentos  idade  \\\n",
       "aval_ano_anterior                                                   \n",
       "1.0                              6223                 6223   6223   \n",
       "2.0                              4225                 4225   4225   \n",
       "3.0                             18618                18618  18618   \n",
       "4.0                              9877                 9877   9877   \n",
       "5.0                             11741                11741  11741   \n",
       "\n",
       "                   tempo_servico  promovido  \n",
       "aval_ano_anterior                            \n",
       "1.0                         6223       6223  \n",
       "2.0                         4225       4225  \n",
       "3.0                        18618      18618  \n",
       "4.0                         9877       9877  \n",
       "5.0                        11741      11741  "
      ]
     },
     "execution_count": 12,
     "metadata": {},
     "output_type": "execute_result"
    }
   ],
   "source": [
    "dadosRH.groupby(['aval_ano_anterior']).count()"
   ]
  },
  {
   "cell_type": "code",
   "execution_count": 13,
   "metadata": {},
   "outputs": [
    {
     "name": "stderr",
     "output_type": "stream",
     "text": [
      "C:\\Users\\elian\\anaconda3\\lib\\site-packages\\seaborn\\_decorators.py:36: FutureWarning: Pass the following variable as a keyword arg: x. From version 0.12, the only valid positional argument will be `data`, and passing other arguments without an explicit keyword will result in an error or misinterpretation.\n",
      "  warnings.warn(\n"
     ]
    },
    {
     "data": {
      "text/plain": [
       "<AxesSubplot:xlabel='aval_ano_anterior', ylabel='count'>"
      ]
     },
     "execution_count": 13,
     "metadata": {},
     "output_type": "execute_result"
    },
    {
     "data": {
      "image/png": "[encoded data removed]",
      "text/plain": [
       "<Figure size 432x288 with 1 Axes>"
      ]
     },
     "metadata": {
      "needs_background": "light"
     },
     "output_type": "display_data"
    }
   ],
   "source": [
    "sns.countplot(dadosRH['aval_ano_anterior'])"
   ]
  },
  {
   "cell_type": "markdown",
   "metadata": {},
   "source": [
    "### Vamos aplicar imputação e preencher os valores ausentes"
   ]
  },
  {
   "cell_type": "code",
   "execution_count": 14,
   "metadata": {},
   "outputs": [],
   "source": [
    "dadosRH['educacao'].fillna(dadosRH['educacao'].mode()[0],inplace = True)"
   ]
  },
  {
   "cell_type": "code",
   "execution_count": 15,
   "metadata": {},
   "outputs": [],
   "source": [
    "dadosRH['aval_ano_anterior'].fillna(dadosRH['aval_ano_anterior'].median(),inplace=True)"
   ]
  },
  {
   "cell_type": "code",
   "execution_count": 16,
   "metadata": {},
   "outputs": [
    {
     "data": {
      "text/plain": [
       "id_funcionario         0\n",
       "departmento            0\n",
       "regiao                 0\n",
       "educacao               0\n",
       "genero                 0\n",
       "canal_recrutamento     0\n",
       "numero_treinamentos    0\n",
       "idade                  0\n",
       "aval_ano_anterior      0\n",
       "tempo_servico          0\n",
       "promovido              0\n",
       "dtype: int64"
      ]
     },
     "execution_count": 16,
     "metadata": {},
     "output_type": "execute_result"
    }
   ],
   "source": [
    "dadosRH.isnull().sum()"
   ]
  },
  {
   "cell_type": "code",
   "execution_count": 17,
   "metadata": {},
   "outputs": [
    {
     "data": {
      "text/html": [
       "<div>\n",
       "<style scoped>\n",
       "    .dataframe tbody tr th:only-of-type {\n",
       "        vertical-align: middle;\n",
       "    }\n",
       "\n",
       "    .dataframe tbody tr th {\n",
       "        vertical-align: top;\n",
       "    }\n",
       "\n",
       "    .dataframe thead th {\n",
       "        text-align: right;\n",
       "    }\n",
       "</style>\n",
       "<table border=\"1\" class=\"dataframe\">\n",
       "  <thead>\n",
       "    <tr style=\"text-align: right;\">\n",
       "      <th></th>\n",
       "      <th>id_funcionario</th>\n",
       "      <th>departmento</th>\n",
       "      <th>regiao</th>\n",
       "      <th>genero</th>\n",
       "      <th>canal_recrutamento</th>\n",
       "      <th>numero_treinamentos</th>\n",
       "      <th>idade</th>\n",
       "      <th>aval_ano_anterior</th>\n",
       "      <th>tempo_servico</th>\n",
       "      <th>promovido</th>\n",
       "    </tr>\n",
       "    <tr>\n",
       "      <th>educacao</th>\n",
       "      <th></th>\n",
       "      <th></th>\n",
       "      <th></th>\n",
       "      <th></th>\n",
       "      <th></th>\n",
       "      <th></th>\n",
       "      <th></th>\n",
       "      <th></th>\n",
       "      <th></th>\n",
       "      <th></th>\n",
       "    </tr>\n",
       "  </thead>\n",
       "  <tbody>\n",
       "    <tr>\n",
       "      <th>Ensino Medio</th>\n",
       "      <td>805</td>\n",
       "      <td>805</td>\n",
       "      <td>805</td>\n",
       "      <td>805</td>\n",
       "      <td>805</td>\n",
       "      <td>805</td>\n",
       "      <td>805</td>\n",
       "      <td>805</td>\n",
       "      <td>805</td>\n",
       "      <td>805</td>\n",
       "    </tr>\n",
       "    <tr>\n",
       "      <th>Mestrado ou Doutorado</th>\n",
       "      <td>14925</td>\n",
       "      <td>14925</td>\n",
       "      <td>14925</td>\n",
       "      <td>14925</td>\n",
       "      <td>14925</td>\n",
       "      <td>14925</td>\n",
       "      <td>14925</td>\n",
       "      <td>14925</td>\n",
       "      <td>14925</td>\n",
       "      <td>14925</td>\n",
       "    </tr>\n",
       "    <tr>\n",
       "      <th>Superior</th>\n",
       "      <td>39078</td>\n",
       "      <td>39078</td>\n",
       "      <td>39078</td>\n",
       "      <td>39078</td>\n",
       "      <td>39078</td>\n",
       "      <td>39078</td>\n",
       "      <td>39078</td>\n",
       "      <td>39078</td>\n",
       "      <td>39078</td>\n",
       "      <td>39078</td>\n",
       "    </tr>\n",
       "  </tbody>\n",
       "</table>\n",
       "</div>"
      ],
      "text/plain": [
       "                       id_funcionario  departmento  regiao  genero  \\\n",
       "educacao                                                             \n",
       "Ensino Medio                      805          805     805     805   \n",
       "Mestrado ou Doutorado           14925        14925   14925   14925   \n",
       "Superior                        39078        39078   39078   39078   \n",
       "\n",
       "                       canal_recrutamento  numero_treinamentos  idade  \\\n",
       "educacao                                                                \n",
       "Ensino Medio                          805                  805    805   \n",
       "Mestrado ou Doutorado               14925                14925  14925   \n",
       "Superior                            39078                39078  39078   \n",
       "\n",
       "                       aval_ano_anterior  tempo_servico  promovido  \n",
       "educacao                                                            \n",
       "Ensino Medio                         805            805        805  \n",
       "Mestrado ou Doutorado              14925          14925      14925  \n",
       "Superior                           39078          39078      39078  "
      ]
     },
     "execution_count": 17,
     "metadata": {},
     "output_type": "execute_result"
    }
   ],
   "source": [
    "dadosRH.groupby(['educacao']).count()"
   ]
  },
  {
   "cell_type": "code",
   "execution_count": 18,
   "metadata": {},
   "outputs": [
    {
     "data": {
      "text/html": [
       "<div>\n",
       "<style scoped>\n",
       "    .dataframe tbody tr th:only-of-type {\n",
       "        vertical-align: middle;\n",
       "    }\n",
       "\n",
       "    .dataframe tbody tr th {\n",
       "        vertical-align: top;\n",
       "    }\n",
       "\n",
       "    .dataframe thead th {\n",
       "        text-align: right;\n",
       "    }\n",
       "</style>\n",
       "<table border=\"1\" class=\"dataframe\">\n",
       "  <thead>\n",
       "    <tr style=\"text-align: right;\">\n",
       "      <th></th>\n",
       "      <th>id_funcionario</th>\n",
       "      <th>departmento</th>\n",
       "      <th>regiao</th>\n",
       "      <th>educacao</th>\n",
       "      <th>genero</th>\n",
       "      <th>canal_recrutamento</th>\n",
       "      <th>numero_treinamentos</th>\n",
       "      <th>idade</th>\n",
       "      <th>tempo_servico</th>\n",
       "      <th>promovido</th>\n",
       "    </tr>\n",
       "    <tr>\n",
       "      <th>aval_ano_anterior</th>\n",
       "      <th></th>\n",
       "      <th></th>\n",
       "      <th></th>\n",
       "      <th></th>\n",
       "      <th></th>\n",
       "      <th></th>\n",
       "      <th></th>\n",
       "      <th></th>\n",
       "      <th></th>\n",
       "      <th></th>\n",
       "    </tr>\n",
       "  </thead>\n",
       "  <tbody>\n",
       "    <tr>\n",
       "      <th>1.0</th>\n",
       "      <td>6223</td>\n",
       "      <td>6223</td>\n",
       "      <td>6223</td>\n",
       "      <td>6223</td>\n",
       "      <td>6223</td>\n",
       "      <td>6223</td>\n",
       "      <td>6223</td>\n",
       "      <td>6223</td>\n",
       "      <td>6223</td>\n",
       "      <td>6223</td>\n",
       "    </tr>\n",
       "    <tr>\n",
       "      <th>2.0</th>\n",
       "      <td>4225</td>\n",
       "      <td>4225</td>\n",
       "      <td>4225</td>\n",
       "      <td>4225</td>\n",
       "      <td>4225</td>\n",
       "      <td>4225</td>\n",
       "      <td>4225</td>\n",
       "      <td>4225</td>\n",
       "      <td>4225</td>\n",
       "      <td>4225</td>\n",
       "    </tr>\n",
       "    <tr>\n",
       "      <th>3.0</th>\n",
       "      <td>22742</td>\n",
       "      <td>22742</td>\n",
       "      <td>22742</td>\n",
       "      <td>22742</td>\n",
       "      <td>22742</td>\n",
       "      <td>22742</td>\n",
       "      <td>22742</td>\n",
       "      <td>22742</td>\n",
       "      <td>22742</td>\n",
       "      <td>22742</td>\n",
       "    </tr>\n",
       "    <tr>\n",
       "      <th>4.0</th>\n",
       "      <td>9877</td>\n",
       "      <td>9877</td>\n",
       "      <td>9877</td>\n",
       "      <td>9877</td>\n",
       "      <td>9877</td>\n",
       "      <td>9877</td>\n",
       "      <td>9877</td>\n",
       "      <td>9877</td>\n",
       "      <td>9877</td>\n",
       "      <td>9877</td>\n",
       "    </tr>\n",
       "    <tr>\n",
       "      <th>5.0</th>\n",
       "      <td>11741</td>\n",
       "      <td>11741</td>\n",
       "      <td>11741</td>\n",
       "      <td>11741</td>\n",
       "      <td>11741</td>\n",
       "      <td>11741</td>\n",
       "      <td>11741</td>\n",
       "      <td>11741</td>\n",
       "      <td>11741</td>\n",
       "      <td>11741</td>\n",
       "    </tr>\n",
       "  </tbody>\n",
       "</table>\n",
       "</div>"
      ],
      "text/plain": [
       "                   id_funcionario  departmento  regiao  educacao  genero  \\\n",
       "aval_ano_anterior                                                          \n",
       "1.0                          6223         6223    6223      6223    6223   \n",
       "2.0                          4225         4225    4225      4225    4225   \n",
       "3.0                         22742        22742   22742     22742   22742   \n",
       "4.0                          9877         9877    9877      9877    9877   \n",
       "5.0                         11741        11741   11741     11741   11741   \n",
       "\n",
       "                   canal_recrutamento  numero_treinamentos  idade  \\\n",
       "aval_ano_anterior                                                   \n",
       "1.0                              6223                 6223   6223   \n",
       "2.0                              4225                 4225   4225   \n",
       "3.0                             22742                22742  22742   \n",
       "4.0                              9877                 9877   9877   \n",
       "5.0                             11741                11741  11741   \n",
       "\n",
       "                   tempo_servico  promovido  \n",
       "aval_ano_anterior                            \n",
       "1.0                         6223       6223  \n",
       "2.0                         4225       4225  \n",
       "3.0                        22742      22742  \n",
       "4.0                         9877       9877  \n",
       "5.0                        11741      11741  "
      ]
     },
     "execution_count": 18,
     "metadata": {},
     "output_type": "execute_result"
    }
   ],
   "source": [
    "    dadosRH.groupby(['aval_ano_anterior']).count()"
   ]
  },
  {
   "cell_type": "markdown",
   "metadata": {},
   "source": [
    "### Verificando o balancemento de classe na variável \"promovido\""
   ]
  },
  {
   "cell_type": "code",
   "execution_count": 19,
   "metadata": {},
   "outputs": [
    {
     "data": {
      "text/html": [
       "<div>\n",
       "<style scoped>\n",
       "    .dataframe tbody tr th:only-of-type {\n",
       "        vertical-align: middle;\n",
       "    }\n",
       "\n",
       "    .dataframe tbody tr th {\n",
       "        vertical-align: top;\n",
       "    }\n",
       "\n",
       "    .dataframe thead th {\n",
       "        text-align: right;\n",
       "    }\n",
       "</style>\n",
       "<table border=\"1\" class=\"dataframe\">\n",
       "  <thead>\n",
       "    <tr style=\"text-align: right;\">\n",
       "      <th></th>\n",
       "      <th>id_funcionario</th>\n",
       "      <th>departmento</th>\n",
       "      <th>regiao</th>\n",
       "      <th>educacao</th>\n",
       "      <th>genero</th>\n",
       "      <th>canal_recrutamento</th>\n",
       "      <th>numero_treinamentos</th>\n",
       "      <th>idade</th>\n",
       "      <th>aval_ano_anterior</th>\n",
       "      <th>tempo_servico</th>\n",
       "    </tr>\n",
       "    <tr>\n",
       "      <th>promovido</th>\n",
       "      <th></th>\n",
       "      <th></th>\n",
       "      <th></th>\n",
       "      <th></th>\n",
       "      <th></th>\n",
       "      <th></th>\n",
       "      <th></th>\n",
       "      <th></th>\n",
       "      <th></th>\n",
       "      <th></th>\n",
       "    </tr>\n",
       "  </thead>\n",
       "  <tbody>\n",
       "    <tr>\n",
       "      <th>0</th>\n",
       "      <td>50140</td>\n",
       "      <td>50140</td>\n",
       "      <td>50140</td>\n",
       "      <td>50140</td>\n",
       "      <td>50140</td>\n",
       "      <td>50140</td>\n",
       "      <td>50140</td>\n",
       "      <td>50140</td>\n",
       "      <td>50140</td>\n",
       "      <td>50140</td>\n",
       "    </tr>\n",
       "    <tr>\n",
       "      <th>1</th>\n",
       "      <td>4668</td>\n",
       "      <td>4668</td>\n",
       "      <td>4668</td>\n",
       "      <td>4668</td>\n",
       "      <td>4668</td>\n",
       "      <td>4668</td>\n",
       "      <td>4668</td>\n",
       "      <td>4668</td>\n",
       "      <td>4668</td>\n",
       "      <td>4668</td>\n",
       "    </tr>\n",
       "  </tbody>\n",
       "</table>\n",
       "</div>"
      ],
      "text/plain": [
       "           id_funcionario  departmento  regiao  educacao  genero  \\\n",
       "promovido                                                          \n",
       "0                   50140        50140   50140     50140   50140   \n",
       "1                    4668         4668    4668      4668    4668   \n",
       "\n",
       "           canal_recrutamento  numero_treinamentos  idade  aval_ano_anterior  \\\n",
       "promovido                                                                      \n",
       "0                       50140                50140  50140              50140   \n",
       "1                        4668                 4668   4668               4668   \n",
       "\n",
       "           tempo_servico  \n",
       "promovido                 \n",
       "0                  50140  \n",
       "1                   4668  "
      ]
     },
     "execution_count": 19,
     "metadata": {},
     "output_type": "execute_result"
    }
   ],
   "source": [
    "dadosRH.groupby(['promovido']).count()"
   ]
  },
  {
   "cell_type": "code",
   "execution_count": 27,
   "metadata": {},
   "outputs": [
    {
     "data": {
      "text/plain": [
       "<AxesSubplot:xlabel='promovido', ylabel='count'>"
      ]
     },
     "execution_count": 27,
     "metadata": {},
     "output_type": "execute_result"
    },
    {
     "data": {
      "image/png": "[encoded data removed]",
      "text/plain": [
       "<Figure size 432x288 with 1 Axes>"
      ]
     },
     "metadata": {
      "needs_background": "light"
     },
     "output_type": "display_data"
    }
   ],
   "source": [
    "sns.countplot(dadosRH['promovido'])"
   ]
  },
  {
   "cell_type": "code",
   "execution_count": 28,
   "metadata": {},
   "outputs": [],
   "source": [
    "df_classe_majoritaria = dadosRH[dadosRH.promovido==0]\n",
    "df_classe_minoritaria = dadosRH[dadosRH.promovido==1]"
   ]
  },
  {
   "cell_type": "code",
   "execution_count": 29,
   "metadata": {},
   "outputs": [
    {
     "data": {
      "text/plain": [
       "(50140, 11)"
      ]
     },
     "execution_count": 29,
     "metadata": {},
     "output_type": "execute_result"
    }
   ],
   "source": [
    "df_classe_majoritaria.shape"
   ]
  },
  {
   "cell_type": "code",
   "execution_count": 30,
   "metadata": {},
   "outputs": [
    {
     "data": {
      "text/plain": [
       "(4668, 11)"
      ]
     },
     "execution_count": 30,
     "metadata": {},
     "output_type": "execute_result"
    }
   ],
   "source": [
    "df_classe_minoritaria.shape"
   ]
  },
  {
   "cell_type": "code",
   "execution_count": 31,
   "metadata": {},
   "outputs": [],
   "source": [
    "# UPSAMPLE da classe minoritária\n",
    "from sklearn.utils import resample\n",
    "df_classe_minoritaria_upsampled = resample(df_classe_minoritaria,\n",
    "                                          replace = True,\n",
    "                                          n_samples = 50140,\n",
    "                                          random_state = 150)"
   ]
  },
  {
   "cell_type": "code",
   "execution_count": 32,
   "metadata": {},
   "outputs": [],
   "source": [
    "dadosRH_balanceados = pd.concat([df_classe_majoritaria, df_classe_minoritaria_upsampled])"
   ]
  },
  {
   "cell_type": "code",
   "execution_count": 33,
   "metadata": {},
   "outputs": [
    {
     "data": {
      "text/plain": [
       "1    50140\n",
       "0    50140\n",
       "Name: promovido, dtype: int64"
      ]
     },
     "execution_count": 33,
     "metadata": {},
     "output_type": "execute_result"
    }
   ],
   "source": [
    "dadosRH_balanceados.promovido.value_counts()"
   ]
  },
  {
   "cell_type": "code",
   "execution_count": 34,
   "metadata": {},
   "outputs": [
    {
     "name": "stdout",
     "output_type": "stream",
     "text": [
      "<class 'pandas.core.frame.DataFrame'>\n",
      "Int64Index: 100280 entries, 0 to 5869\n",
      "Data columns (total 11 columns):\n",
      " #   Column               Non-Null Count   Dtype  \n",
      "---  ------               --------------   -----  \n",
      " 0   id_funcionario       100280 non-null  int64  \n",
      " 1   departmento          100280 non-null  object \n",
      " 2   regiao               100280 non-null  object \n",
      " 3   educacao             100280 non-null  object \n",
      " 4   genero               100280 non-null  object \n",
      " 5   canal_recrutamento   100280 non-null  object \n",
      " 6   numero_treinamentos  100280 non-null  int64  \n",
      " 7   idade                100280 non-null  int64  \n",
      " 8   aval_ano_anterior    100280 non-null  float64\n",
      " 9   tempo_servico        100280 non-null  int64  \n",
      " 10  promovido            100280 non-null  int64  \n",
      "dtypes: float64(1), int64(5), object(5)\n",
      "memory usage: 9.2+ MB\n"
     ]
    }
   ],
   "source": [
    "dadosRH_balanceados.info()"
   ]
  },
  {
   "cell_type": "code",
   "execution_count": 35,
   "metadata": {},
   "outputs": [
    {
     "name": "stderr",
     "output_type": "stream",
     "text": [
      "C:\\Users\\elian\\anaconda3\\lib\\site-packages\\seaborn\\_decorators.py:36: FutureWarning: Pass the following variable as a keyword arg: x. From version 0.12, the only valid positional argument will be `data`, and passing other arguments without an explicit keyword will result in an error or misinterpretation.\n",
      "  warnings.warn(\n"
     ]
    },
    {
     "data": {
      "text/plain": [
       "<AxesSubplot:xlabel='promovido', ylabel='count'>"
      ]
     },
     "execution_count": 35,
     "metadata": {},
     "output_type": "execute_result"
    },
    {
     "data": {
      "image/png": "[encoded data removed]",
      "text/plain": [
       "<Figure size 432x288 with 1 Axes>"
      ]
     },
     "metadata": {
      "needs_background": "light"
     },
     "output_type": "display_data"
    }
   ],
   "source": [
    "sns.countplot(dadosRH_balanceados['promovido'])"
   ]
  },
  {
   "cell_type": "markdown",
   "metadata": {},
   "source": [
    "### Os dados já estão balanceados. Agora, salvando o dataset com os dados manipulados"
   ]
  },
  {
   "cell_type": "code",
   "execution_count": 36,
   "metadata": {},
   "outputs": [],
   "source": [
    "dadosRH_balanceados.to_csv('dadosRH_modificado.csv', encoding='utf-8', index=False)\n",
    "# index = False porque não quero carregar o índice"
   ]
  },
  {
   "cell_type": "markdown",
   "metadata": {},
   "source": [
    "#### Carregamos os dados e seguimos com o trabalho de análise;\n",
    "\n",
    "`---> A partir daqui executar também no Power BI`"
   ]
  },
  {
   "cell_type": "code",
   "execution_count": 37,
   "metadata": {},
   "outputs": [
    {
     "data": {
      "text/html": [
       "<div>\n",
       "<style scoped>\n",
       "    .dataframe tbody tr th:only-of-type {\n",
       "        vertical-align: middle;\n",
       "    }\n",
       "\n",
       "    .dataframe tbody tr th {\n",
       "        vertical-align: top;\n",
       "    }\n",
       "\n",
       "    .dataframe thead th {\n",
       "        text-align: right;\n",
       "    }\n",
       "</style>\n",
       "<table border=\"1\" class=\"dataframe\">\n",
       "  <thead>\n",
       "    <tr style=\"text-align: right;\">\n",
       "      <th></th>\n",
       "      <th>id_funcionario</th>\n",
       "      <th>departmento</th>\n",
       "      <th>regiao</th>\n",
       "      <th>educacao</th>\n",
       "      <th>genero</th>\n",
       "      <th>canal_recrutamento</th>\n",
       "      <th>numero_treinamentos</th>\n",
       "      <th>idade</th>\n",
       "      <th>aval_ano_anterior</th>\n",
       "      <th>tempo_servico</th>\n",
       "      <th>promovido</th>\n",
       "    </tr>\n",
       "  </thead>\n",
       "  <tbody>\n",
       "    <tr>\n",
       "      <th>0</th>\n",
       "      <td>65438</td>\n",
       "      <td>Marketing</td>\n",
       "      <td>Sudeste</td>\n",
       "      <td>Mestrado ou Doutorado</td>\n",
       "      <td>F</td>\n",
       "      <td>Outsourcing</td>\n",
       "      <td>1</td>\n",
       "      <td>35</td>\n",
       "      <td>5.0</td>\n",
       "      <td>8</td>\n",
       "      <td>0</td>\n",
       "    </tr>\n",
       "    <tr>\n",
       "      <th>1</th>\n",
       "      <td>65141</td>\n",
       "      <td>Logistica</td>\n",
       "      <td>Nordeste</td>\n",
       "      <td>Superior</td>\n",
       "      <td>M</td>\n",
       "      <td>Outro</td>\n",
       "      <td>1</td>\n",
       "      <td>30</td>\n",
       "      <td>5.0</td>\n",
       "      <td>4</td>\n",
       "      <td>0</td>\n",
       "    </tr>\n",
       "    <tr>\n",
       "      <th>2</th>\n",
       "      <td>7513</td>\n",
       "      <td>Marketing</td>\n",
       "      <td>Sudeste</td>\n",
       "      <td>Superior</td>\n",
       "      <td>M</td>\n",
       "      <td>Outsourcing</td>\n",
       "      <td>1</td>\n",
       "      <td>34</td>\n",
       "      <td>3.0</td>\n",
       "      <td>7</td>\n",
       "      <td>0</td>\n",
       "    </tr>\n",
       "    <tr>\n",
       "      <th>3</th>\n",
       "      <td>2542</td>\n",
       "      <td>Marketing</td>\n",
       "      <td>Norte</td>\n",
       "      <td>Superior</td>\n",
       "      <td>M</td>\n",
       "      <td>Outro</td>\n",
       "      <td>2</td>\n",
       "      <td>39</td>\n",
       "      <td>1.0</td>\n",
       "      <td>10</td>\n",
       "      <td>0</td>\n",
       "    </tr>\n",
       "    <tr>\n",
       "      <th>4</th>\n",
       "      <td>48945</td>\n",
       "      <td>Tecnologia</td>\n",
       "      <td>Nordeste</td>\n",
       "      <td>Superior</td>\n",
       "      <td>M</td>\n",
       "      <td>Outro</td>\n",
       "      <td>1</td>\n",
       "      <td>45</td>\n",
       "      <td>3.0</td>\n",
       "      <td>2</td>\n",
       "      <td>0</td>\n",
       "    </tr>\n",
       "  </tbody>\n",
       "</table>\n",
       "</div>"
      ],
      "text/plain": [
       "   id_funcionario departmento    regiao               educacao genero  \\\n",
       "0           65438   Marketing   Sudeste  Mestrado ou Doutorado      F   \n",
       "1           65141   Logistica  Nordeste               Superior      M   \n",
       "2            7513   Marketing   Sudeste               Superior      M   \n",
       "3            2542   Marketing     Norte               Superior      M   \n",
       "4           48945  Tecnologia  Nordeste               Superior      M   \n",
       "\n",
       "  canal_recrutamento  numero_treinamentos  idade  aval_ano_anterior  \\\n",
       "0        Outsourcing                    1     35                5.0   \n",
       "1              Outro                    1     30                5.0   \n",
       "2        Outsourcing                    1     34                3.0   \n",
       "3              Outro                    2     39                1.0   \n",
       "4              Outro                    1     45                3.0   \n",
       "\n",
       "   tempo_servico  promovido  \n",
       "0              8          0  \n",
       "1              4          0  \n",
       "2              7          0  \n",
       "3             10          0  \n",
       "4              2          0  "
      ]
     },
     "execution_count": 37,
     "metadata": {},
     "output_type": "execute_result"
    }
   ],
   "source": [
    "dataset = pd.read_csv('dadosRH_modificado.csv')\n",
    "dataset.head()"
   ]
  },
  {
   "cell_type": "code",
   "execution_count": 38,
   "metadata": {},
   "outputs": [
    {
     "data": {
      "text/plain": [
       "(100280, 11)"
      ]
     },
     "execution_count": 38,
     "metadata": {},
     "output_type": "execute_result"
    }
   ],
   "source": [
    "# Veja que agora temos 100.280 registros porque balanceamos as classes\n",
    "dataset.shape"
   ]
  },
  {
   "cell_type": "markdown",
   "metadata": {},
   "source": [
    "### Pergunta 1 - Qual a correlação entre os Atributos dos Funcionários?"
   ]
  },
  {
   "cell_type": "code",
   "execution_count": 39,
   "metadata": {},
   "outputs": [
    {
     "data": {
      "image/png": "[encoded data removed]",
      "text/plain": [
       "<Figure size 432x288 with 2 Axes>"
      ]
     },
     "metadata": {
      "needs_background": "light"
     },
     "output_type": "display_data"
    }
   ],
   "source": [
    "import matplotlib.pyplot as plt\n",
    "import seaborn as sns\n",
    "corr = dataset.corr()\n",
    "sns.heatmap(corr, cmap = \"YlOrRd\", linewidths = 0.1)\n",
    "plt.show()"
   ]
  },
  {
   "cell_type": "markdown",
   "metadata": {},
   "source": [
    "### Pergunta 2 - Qual o tempo de Serviço da MAIORIA dos Funcionários?"
   ]
  },
  {
   "cell_type": "code",
   "execution_count": 49,
   "metadata": {},
   "outputs": [
    {
     "data": {
      "image/png": "[encoded data removed]",
      "text/plain": [
       "<Figure size 432x288 with 1 Axes>"
      ]
     },
     "metadata": {
      "needs_background": "light"
     },
     "output_type": "display_data"
    }
   ],
   "source": [
    "import matplotlib.pyplot as plt\n",
    "import seaborn as sns\n",
    "sns.histplot(dataset['tempo_servico'], color = 'green')\n",
    "plt.title('Distribuição do Tempo de Serviço dos Funcionários', fontsize = 15)\n",
    "plt.xlabel('Tempo de Serviço em Anos', fontsize = 15)\n",
    "plt.ylabel('Total')\n",
    "plt.show()"
   ]
  },
  {
   "cell_type": "markdown",
   "metadata": {},
   "source": [
    "### Pergunta 3 - Qual Avaliação do Ano Anterior foi mais COMUM?"
   ]
  },
  {
   "cell_type": "code",
   "execution_count": 41,
   "metadata": {},
   "outputs": [
    {
     "data": {
      "image/png": "[encoded data removed]",
      "text/plain": [
       "<Figure size 720x360 with 1 Axes>"
      ]
     },
     "metadata": {
      "needs_background": "light"
     },
     "output_type": "display_data"
    }
   ],
   "source": [
    "import matplotlib.pyplot as plt\n",
    "import seaborn as sns\n",
    "dataset['aval_ano_anterior'].value_counts().sort_values().plot.bar(color='blue',figsize = (10,5))\n",
    "plt.title('Distribuição da Avaliação do Ano Anterior dos Funcionários', fontsize = 15)\n",
    "plt.xlabel('Idade', fontsize=15)\n",
    "plt.ylabel('Total')\n",
    "plt.show()"
   ]
  },
  {
   "cell_type": "markdown",
   "metadata": {},
   "source": [
    "### Pergunta 4 - Qual a Distribuição das Idades dos Funcionários?"
   ]
  },
  {
   "cell_type": "code",
   "execution_count": 43,
   "metadata": {},
   "outputs": [
    {
     "data": {
      "image/png": "[encoded data removed]",
      "text/plain": [
       "<Figure size 360x360 with 1 Axes>"
      ]
     },
     "metadata": {
      "needs_background": "light"
     },
     "output_type": "display_data"
    }
   ],
   "source": [
    "import matplotlib.pyplot as plt\n",
    "import seaborn as sns\n",
    "sns.displot(dataset['idade'], color='magenta')\n",
    "plt.title('Distribuição das Idades dos Funcionários', fontsize=15)\n",
    "plt.xlabel('Idade', fontsize=15)\n",
    "plt.ylabel('Total')\n",
    "plt.show()"
   ]
  },
  {
   "cell_type": "markdown",
   "metadata": {},
   "source": [
    "### Pergunta 5 - Qual o número de treinamento mais Frequente?"
   ]
  },
  {
   "cell_type": "code",
   "execution_count": 44,
   "metadata": {},
   "outputs": [
    {
     "name": "stderr",
     "output_type": "stream",
     "text": [
      "C:\\Users\\elian\\anaconda3\\lib\\site-packages\\seaborn\\_decorators.py:36: FutureWarning: Pass the following variable as a keyword arg: x. From version 0.12, the only valid positional argument will be `data`, and passing other arguments without an explicit keyword will result in an error or misinterpretation.\n",
      "  warnings.warn(\n"
     ]
    },
    {
     "data": {
      "image/png": "[encoded data removed]",
      "text/plain": [
       "<Figure size 432x288 with 1 Axes>"
      ]
     },
     "metadata": {
      "needs_background": "light"
     },
     "output_type": "display_data"
    }
   ],
   "source": [
    "import matplotlib.pyplot as plt\n",
    "import seaborn as sns\n",
    "sns.violinplot(dataset['numero_treinamentos'], color='red')\n",
    "plt.title('Número de Treinamentos Feitos Pelos Funcionários', fontsize=15)\n",
    "plt.xlabel('Número de Treinamentos', fontsize=15)\n",
    "plt.ylabel('Frequencia')\n",
    "plt.show()"
   ]
  },
  {
   "cell_type": "markdown",
   "metadata": {},
   "source": [
    "### Pergunta 6 - Qual a Proporção dos Funcionários Por Canal de Recrutamento?"
   ]
  },
  {
   "cell_type": "code",
   "execution_count": 45,
   "metadata": {},
   "outputs": [
    {
     "data": {
      "text/plain": [
       "Outro          55375\n",
       "Outsourcing    42358\n",
       "Indicado        2547\n",
       "Name: canal_recrutamento, dtype: int64"
      ]
     },
     "execution_count": 45,
     "metadata": {},
     "output_type": "execute_result"
    }
   ],
   "source": [
    "dataset['canal_recrutamento'].value_counts()\n",
    "#deste comando saiu a lista \"fatias\""
   ]
  },
  {
   "cell_type": "code",
   "execution_count": 46,
   "metadata": {},
   "outputs": [
    {
     "data": {
      "image/png": "[encoded data removed]",
      "text/plain": [
       "<Figure size 432x288 with 1 Axes>"
      ]
     },
     "metadata": {},
     "output_type": "display_data"
    }
   ],
   "source": [
    "import matplotlib.pyplot as plt\n",
    "import seaborn as sns\n",
    "dataset['canal_recrutamento'].value_counts()\n",
    "fatias = [55375, 42358, 2547]\n",
    "labels = \"Outro\", \"Outsourcing\", \"Indicação\"\n",
    "colors = ['lightpink', 'lime', 'yellow']\n",
    "explode = [0,0,0]\n",
    "plt.pie(fatias, labels = labels, colors=colors, explode = explode, shadow = False, autopct = \"%.2f%%\")\n",
    "plt.title('Percentual de Funcionários Por Canal de Recrutamento', fontsize=15)\n",
    "plt.axis('off')\n",
    "#plt.legend()\n",
    "plt.show()"
   ]
  },
  {
   "cell_type": "markdown",
   "metadata": {},
   "source": [
    "### Pergunta 7 - Qual a Relação entre a Promoção e a Avaliação do Ano Anterior?"
   ]
  },
  {
   "cell_type": "code",
   "execution_count": 47,
   "metadata": {},
   "outputs": [
    {
     "data": {
      "image/png": "[encoded data removed]",
      "text/plain": [
       "<Figure size 1152x648 with 1 Axes>"
      ]
     },
     "metadata": {
      "needs_background": "light"
     },
     "output_type": "display_data"
    }
   ],
   "source": [
    "import matplotlib.pyplot as plt\n",
    "import seaborn as sns\n",
    "data = pd.crosstab(dataset['aval_ano_anterior'], dataset['promovido'])\n",
    "data.div(data.sum(1).astype(float), axis=0).plot(kind = 'bar',\n",
    "                                                stacked = True,\n",
    "                                                figsize = (16,9),\n",
    "                                                color = ['blue', 'magenta'])\n",
    "plt.title('Relação Entre Avaliação do Ano Anterior e a Promoção', fontsize=15)\n",
    "plt.xlabel('Avaliação do Ano Anterior', fontsize=15)\n",
    "plt.legend()\n",
    "plt.show()"
   ]
  },
  {
   "cell_type": "code",
   "execution_count": 48,
   "metadata": {},
   "outputs": [
    {
     "name": "stdout",
     "output_type": "stream",
     "text": [
      "promovido              0      1\n",
      "aval_ano_anterior              \n",
      "1.0                 6135    878\n",
      "2.0                 4044   1937\n",
      "3.0                21048  18223\n",
      "4.0                 9093   8264\n",
      "5.0                 9820  20838\n"
     ]
    }
   ],
   "source": [
    "data = pd.crosstab(dataset['aval_ano_anterior'], dataset['promovido'])\n",
    "print(data)"
   ]
  },
  {
   "cell_type": "code",
   "execution_count": null,
   "metadata": {},
   "outputs": [],
   "source": []
  }
 ],
 "metadata": {
  "kernelspec": {
   "display_name": "Python 3",
   "language": "python",
   "name": "python3"
  },
  "language_info": {
   "codemirror_mode": {
    "name": "ipython",
    "version": 3
   },
   "file_extension": ".py",
   "mimetype": "text/x-python",
   "name": "python",
   "nbconvert_exporter": "python",
   "pygments_lexer": "ipython3",
   "version": "3.8.5"
  }
 },
 "nbformat": 4,
 "nbformat_minor": 4
}
